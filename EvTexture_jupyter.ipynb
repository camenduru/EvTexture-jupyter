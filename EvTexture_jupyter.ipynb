{
  "cells": [
    {
      "cell_type": "markdown",
      "metadata": {
        "id": "view-in-github"
      },
      "source": [
        "[![Open In Colab](https://colab.research.google.com/assets/colab-badge.svg)](https://colab.research.google.com/github/camenduru/EvTexture-jupyter/blob/main/EvTexture_jupyter.ipynb)"
      ]
    },
    {
      "cell_type": "code",
      "execution_count": null,
      "metadata": {
        "id": "VjYy0F2gZIPR"
      },
      "outputs": [],
      "source": [
        "!mkdir -p /content/EvTexture/experiments/pretrained_models/EvTexture\n",
        "\n",
        "!wget https://github.com/DachunKai/EvTexture/releases/download/v0.0/EvTexture_REDS_BIx4.pth -O /content/EvTexture/experiments/pretrained_models/EvTexture/EvTexture_REDS_BIx4.pth\n",
        "!wget https://github.com/DachunKai/EvTexture/releases/download/v0.0/EvTexture_Vimeo90K_BIx4.pth -O /content/EvTexture/experiments/pretrained_models/EvTexture/EvTexture_Vimeo90K_BIx4.pth\n",
        "!wget https://github.com/DachunKai/EvTexture/releases/download/v0.0/test_sets_REDS4_h5.zip -O /content/EvTexture/experiments/pretrained_models/EvTexture/test_sets_REDS4_h5.zip\n",
        "!wget https://github.com/DachunKai/EvTexture/releases/download/v0.0/test_sets_Vid4_h5.zip -O /content/EvTexture/experiments/pretrained_models/EvTexture/test_sets_Vid4_h5.zip\n",
        "!wget https://github.com/DachunKai/EvTexture/releases/download/v0.0/visual_results_EvTexture_REDS4_BIx4.zip -O /content/EvTexture/experiments/pretrained_models/EvTexture/visual_results_EvTexture_REDS4_BIx4.zip\n",
        "!wget https://github.com/DachunKai/EvTexture/releases/download/v0.0/visual_results_EvTexture_Vid4_BIx4.zip -O /content/EvTexture/experiments/pretrained_models/EvTexture/visual_results_EvTexture_Vid4_BIx4.zip\n",
        "\n",
        "%cd /content\n",
        "!git clone https://github.com/camenduru/EvTexture\n",
        "\n",
        "%cd /content/EvTexture/experiments/pretrained_models/EvTexture\n",
        "!unzip test_sets_Vid4_h5.zip\n",
        "!mv /content/EvTexture/experiments/pretrained_models/EvTexture/Vid4_h5 /content/EvTexture/datasets/Vid4_h5\n",
        "\n",
        "%cd /content/EvTexture/experiments/pretrained_models/EvTexture\n",
        "!unzip test_sets_REDS4_h5.zip\n",
        "!mv /content/EvTexture/experiments/pretrained_models/EvTexture/REDS4_h5 /content/EvTexture/datasets/REDS4_h5\n",
        "\n",
        "%cd /content/EvTexture\n",
        "!pip install .\n",
        "# !pip install git+https://github.com/camenduru/EvTexture@dev"
      ]
    },
    {
      "cell_type": "code",
      "execution_count": null,
      "metadata": {},
      "outputs": [],
      "source": [
        "%cd /content/EvTexture\n",
        "!python basicsr/test.py -opt options/test/EvTexture/test_EvTexture_Vid4_BIx4.yml"
      ]
    },
    {
      "cell_type": "code",
      "execution_count": null,
      "metadata": {},
      "outputs": [],
      "source": [
        "%cd /content/EvTexture\n",
        "!python basicsr/test.py -opt options/test/EvTexture/test_EvTexture_REDS4_BIx4.yml"
      ]
    }
  ],
  "metadata": {
    "accelerator": "GPU",
    "colab": {
      "gpuType": "T4",
      "provenance": []
    },
    "kernelspec": {
      "display_name": "Python 3",
      "name": "python3"
    },
    "language_info": {
      "name": "python"
    }
  },
  "nbformat": 4,
  "nbformat_minor": 0
}
